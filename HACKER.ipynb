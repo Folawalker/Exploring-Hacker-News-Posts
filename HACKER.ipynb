{
 "cells": [
  {
   "cell_type": "markdown",
   "id": "959bb4e3-298d-4632-9b4c-272e4d959209",
   "metadata": {},
   "source": [
    "## Exploring Hacker News Posts\n",
    "\n",
    "# Overview\n",
    "In this project, we are to explore and analyze a dataset from Hacker News, a popular tech-focused community site. We are to uncover trends in user submissions and identify factors that drive community engagement.\n",
    "\n",
    "We're specifically interested in posts with titles that begin with either `Ask HN` or `Show HN`. Users submit `Ask HN` posts to ask the Hacker News community a specific question ad determine if those kind of post receive more engagements on average."
   ]
  },
  {
   "cell_type": "markdown",
   "id": "0eb5ec59-4646-466f-8c17-14c277532b0c",
   "metadata": {},
   "source": [
    "Steps of Analysis\n",
    "\n",
    "- Remove headers from a list of lists\n",
    "- Extract `Ask HN` and `Show HN` posts\n",
    "- Calculate the average number of comments for `Ask HN` and `Show HN` posts\n",
    "- Find the number of `Ask HN` posts and average comments by hour created\n",
    "- Sort and print values from a list of lists"
   ]
  },
  {
   "cell_type": "markdown",
   "id": "0b149bff-4db0-4c1e-9cf5-5e0f5710033c",
   "metadata": {},
   "source": [
    "## Introduction\n",
    "\n",
    "First, I will read the data and remove the headers."
   ]
  },
  {
   "cell_type": "code",
   "execution_count": 40,
   "id": "dc48cf19-4936-4f3e-99df-d51447adab1b",
   "metadata": {},
   "outputs": [],
   "source": [
    "from csv import reader\n",
    "\n",
    "opened_file = open('hacker_news.csv', encoding='utf-8-sig') # The file is CSV UTF-8 Encoded \n",
    "read_file = reader(opened_file)\n",
    "hn = list(read_file)\n",
    "hn_header = hn[0] # this assigns the title row to the hn_header function so I  can carry out our analysis without any error\n",
    "hn = hn[1:] # this assigns first row to the second row of the file which is actually the first row of our data"
   ]
  },
  {
   "cell_type": "markdown",
   "id": "8d26a67a-5ae9-488e-a0fd-b7e50ba692b7",
   "metadata": {},
   "source": [
    "Checking to confirm our headers were properly assigned"
   ]
  },
  {
   "cell_type": "code",
   "execution_count": 42,
   "id": "e16896f1-154a-44c3-9977-5b1d863408df",
   "metadata": {},
   "outputs": [
    {
     "name": "stdout",
     "output_type": "stream",
     "text": [
      "['id', 'title', 'url', 'num_points', 'num_comments', 'author', 'created_at']\n",
      "\n",
      "\n",
      "['12224879', 'Interactive Dynamic Video', 'http://www.interactivedynamicvideo.com/', '386', '52', 'ne0phyte', '8/4/2016 11:52']\n",
      "\n",
      "\n",
      "['10975351', 'How to Use Open Source and Shut the Fuck Up at the Same Time', 'http://hueniverse.com/2016/01/26/how-to-use-open-source-and-shut-the-fuck-up-at-the-same-time/', '39', '10', 'josep2', '1/26/2016 19:30']\n",
      "\n",
      "\n",
      "['11964716', \"Florida DJs May Face Felony for April Fools' Water Joke\", 'http://www.thewire.com/entertainment/2013/04/florida-djs-april-fools-water-joke/63798/', '2', '1', 'vezycash', '6/23/2016 22:20']\n",
      "\n",
      "\n",
      "Number of rows: 20100\n",
      "Number of columns: 7\n"
     ]
    }
   ],
   "source": [
    "print(hn_header)\n",
    "print('\\n')\n",
    "explore_data(hn, 0, 3, True)"
   ]
  },
  {
   "cell_type": "markdown",
   "id": "141cdea5-24aa-44b1-8ade-ddee3c648eca",
   "metadata": {},
   "source": [
    "Now that I have removed the headers from `hn`, it is time to filter the data. Since we are only concerned with post titles beginning with `Ask HN` or `Show HN`, I will create new lists of lists containing just the data for those titles."
   ]
  },
  {
   "cell_type": "markdown",
   "id": "c27045c3-636e-4740-8120-c1a232bebd4e",
   "metadata": {},
   "source": [
    "## Extracting Ask HN and Show HN Posts\n",
    "\n",
    "First, I will identify posts that begin with either `Ask HN` or `Show HN` and separate the data for those two types of posts into different lists. Separating the data makes it easier to analyze in the following steps."
   ]
  },
  {
   "cell_type": "code",
   "execution_count": 45,
   "id": "ae18d292-81b4-4482-a6d0-f364fef77ddb",
   "metadata": {},
   "outputs": [
    {
     "name": "stdout",
     "output_type": "stream",
     "text": [
      "Number of Ask HN posts: 1744\n",
      "Number of Show HN posts: 1162\n",
      "Number of Other posts: 17194\n"
     ]
    }
   ],
   "source": [
    "# first step is to create empty lists that would take the data\n",
    "ask_posts = []\n",
    "show_posts = []\n",
    "other_posts = []\n",
    "\n",
    "for id in hn:\n",
    "    title = id[1]\n",
    "    if title.lower().startswith('ask hn'): # this converts the string stored in 'title' column to lowercase to ensure the search is case insensitive\n",
    "        ask_posts.append(id)\n",
    "    elif title.lower().startswith('show hn'):\n",
    "        show_posts.append(id)\n",
    "    else:\n",
    "        other_posts.append(id)\n",
    "\n",
    "print(f\"Number of Ask HN posts: {len(ask_posts)}\")\n",
    "print(f\"Number of Show HN posts: {len(show_posts)}\")\n",
    "print(f\"Number of Other posts: {len(other_posts)}\")"
   ]
  },
  {
   "cell_type": "markdown",
   "id": "0c0688d1-61a3-43ae-b336-ebd212a6a4ad",
   "metadata": {},
   "source": [
    "## Calculating the Average Number of Comments for `Ask HN` and `Show HN` Posts\n",
    "\n",
    "Since we are to find out the average number of comments for `Ask HN` and `Show HN` posts, we:"
   ]
  },
  {
   "cell_type": "code",
   "execution_count": 47,
   "id": "2ae6cccd-ebe8-405e-a41c-c943feeb2b13",
   "metadata": {},
   "outputs": [
    {
     "name": "stdout",
     "output_type": "stream",
     "text": [
      "14.038417431192661\n"
     ]
    }
   ],
   "source": [
    "total_ask_comments = 0\n",
    "len_ask_comments = 0\n",
    "\n",
    "for id in ask_posts:\n",
    "    num_comment = int(id[4])\n",
    "    if num_comment >= 0:\n",
    "        total_ask_comments += int(id[4])\n",
    "        len_ask_comments += 1\n",
    "avg_ask_comments = total_ask_comments / len_ask_comments\n",
    "        \n",
    "print(avg_ask_comments)"
   ]
  },
  {
   "cell_type": "code",
   "execution_count": 48,
   "id": "450e3a72-27b1-41d3-b322-33417a9abfe1",
   "metadata": {},
   "outputs": [
    {
     "name": "stdout",
     "output_type": "stream",
     "text": [
      "10.31669535283993\n"
     ]
    }
   ],
   "source": [
    "total_show_comments = 0\n",
    "len_show_comments = 0\n",
    "\n",
    "for id in show_posts:\n",
    "    num_comment = int(id[4])\n",
    "    if num_comment >= 0:\n",
    "        total_show_comments += int(id[4])\n",
    "        len_show_comments += 1\n",
    "avg_show_comments = total_show_comments / len_show_comments\n",
    "        \n",
    "print(avg_show_comments)"
   ]
  },
  {
   "cell_type": "code",
   "execution_count": 49,
   "id": "02917897-3f42-4423-97cb-dd5e407b8bd0",
   "metadata": {},
   "outputs": [
    {
     "name": "stdout",
     "output_type": "stream",
     "text": [
      "26.8730371059672\n"
     ]
    }
   ],
   "source": [
    "total_other_comments = 0\n",
    "len_other_comments = 0\n",
    "\n",
    "for id in other_posts:\n",
    "    num_comment = int(id[4])\n",
    "    if num_comment >= 0:\n",
    "        total_other_comments += int(id[4])\n",
    "        len_other_comments += 1\n",
    "avg_other_comments = total_other_comments / len_other_comments\n",
    "        \n",
    "print(avg_other_comments)"
   ]
  },
  {
   "cell_type": "markdown",
   "id": "a2b8dd2c-8088-4ff8-9841-3bce8e983539",
   "metadata": {},
   "source": [
    "From the last three cells, `Ask HN` posts average 14 comments per post, `Show HN` posts average just above 10 comments while `Other Posts` average almost 17 comments per post. \n",
    "\n",
    "It is observed that `Ask HN` receives more comments than `Show HN` posts but neither of them gets more comments than `Other posts`.\n",
    "\n",
    "Since `Ask HN` posts are more likely to receive comments, we'll focus our remaining analysis just on these posts."
   ]
  },
  {
   "cell_type": "markdown",
   "id": "d6bfead8-8b60-4808-907a-d3aa1f57130d",
   "metadata": {},
   "source": [
    "## Finding the Amount of Ask Posts and Comments by Hour Created\n",
    "\n",
    "Next, I will determine if `Ask HN` posts created at a certain time are more likely to attract comments. I will make use of the following steps to perform this analysis:\n",
    "\n",
    "- Calculate the number of `Ask HN` posts created in each hour of the day, along with the number of comments received.\n",
    "- Calculate the average number of comments `Ask HN` posts receive by hour created."
   ]
  },
  {
   "cell_type": "code",
   "execution_count": 52,
   "id": "a38fec1f-86da-477b-859a-b7851b333b71",
   "metadata": {},
   "outputs": [
    {
     "data": {
      "text/plain": [
       "{'09': 251,\n",
       " '13': 1253,\n",
       " '10': 793,\n",
       " '14': 1416,\n",
       " '16': 1814,\n",
       " '23': 543,\n",
       " '12': 687,\n",
       " '17': 1146,\n",
       " '15': 4477,\n",
       " '21': 1745,\n",
       " '20': 1722,\n",
       " '02': 1381,\n",
       " '18': 1439,\n",
       " '03': 421,\n",
       " '05': 464,\n",
       " '19': 1188,\n",
       " '01': 683,\n",
       " '22': 479,\n",
       " '08': 492,\n",
       " '04': 337,\n",
       " '00': 447,\n",
       " '06': 397,\n",
       " '07': 267,\n",
       " '11': 641}"
      ]
     },
     "execution_count": 52,
     "metadata": {},
     "output_type": "execute_result"
    }
   ],
   "source": [
    "import datetime as dt\n",
    "result_list = []\n",
    "\n",
    "for post in ask_posts:\n",
    "    result_list.append([post[6], int(post[4])])\n",
    "\n",
    "comments_by_hour = {}\n",
    "counts_by_hour = {}\n",
    "date_format = \"%m/%d/%Y %H:%M\"\n",
    "\n",
    "for each_row in result_list:\n",
    "    date = each_row[0]\n",
    "    comment = each_row[1]\n",
    "    time = dt.datetime.strptime(date, date_format).strftime(\"%H\")\n",
    "    if time in counts_by_hour:\n",
    "        comments_by_hour[time] += comment\n",
    "        counts_by_hour[time] += 1\n",
    "    else:\n",
    "        comments_by_hour[time] = comment\n",
    "        counts_by_hour[time] = 1\n",
    "\n",
    "comments_by_hour"
   ]
  },
  {
   "cell_type": "markdown",
   "id": "e647f095-47e3-435d-9843-0003a92de27f",
   "metadata": {},
   "source": [
    "## Calculating the Average Number of Comments for `Ask HN` Posts by Hour"
   ]
  },
  {
   "cell_type": "code",
   "execution_count": 53,
   "id": "00b97624-d6b9-4c5b-8406-37d9871a782d",
   "metadata": {},
   "outputs": [
    {
     "data": {
      "text/plain": [
       "[['09', 5.5777777777777775],\n",
       " ['13', 14.741176470588234],\n",
       " ['10', 13.440677966101696],\n",
       " ['14', 13.233644859813085],\n",
       " ['16', 16.796296296296298],\n",
       " ['23', 7.985294117647059],\n",
       " ['12', 9.41095890410959],\n",
       " ['17', 11.46],\n",
       " ['15', 38.5948275862069],\n",
       " ['21', 16.009174311926607],\n",
       " ['20', 21.525],\n",
       " ['02', 23.810344827586206],\n",
       " ['18', 13.20183486238532],\n",
       " ['03', 7.796296296296297],\n",
       " ['05', 10.08695652173913],\n",
       " ['19', 10.8],\n",
       " ['01', 11.383333333333333],\n",
       " ['22', 6.746478873239437],\n",
       " ['08', 10.25],\n",
       " ['04', 7.170212765957447],\n",
       " ['00', 8.127272727272727],\n",
       " ['06', 9.022727272727273],\n",
       " ['07', 7.852941176470588],\n",
       " ['11', 11.051724137931034]]"
      ]
     },
     "execution_count": 53,
     "metadata": {},
     "output_type": "execute_result"
    }
   ],
   "source": [
    "avg_by_hour = []\n",
    "\n",
    "for hr in comments_by_hour:\n",
    "    avg_by_hour.append([hr, comments_by_hour[hr] / counts_by_hour[hr]])\n",
    "\n",
    "avg_by_hour"
   ]
  },
  {
   "cell_type": "markdown",
   "id": "602e2eb9-0adf-434d-8f0c-2e9657882890",
   "metadata": {},
   "source": [
    "## Sorting the Values"
   ]
  },
  {
   "cell_type": "code",
   "execution_count": 79,
   "id": "6edb59f5-6fc0-46b2-aa50-f80a7eb4f52a",
   "metadata": {},
   "outputs": [
    {
     "name": "stdout",
     "output_type": "stream",
     "text": [
      "[[5.5777777777777775, '09'], [14.741176470588234, '13'], [13.440677966101696, '10'], [13.233644859813085, '14'], [16.796296296296298, '16'], [7.985294117647059, '23'], [9.41095890410959, '12'], [11.46, '17'], [38.5948275862069, '15'], [16.009174311926607, '21'], [21.525, '20'], [23.810344827586206, '02'], [13.20183486238532, '18'], [7.796296296296297, '03'], [10.08695652173913, '05'], [10.8, '19'], [11.383333333333333, '01'], [6.746478873239437, '22'], [10.25, '08'], [7.170212765957447, '04'], [8.127272727272727, '00'], [9.022727272727273, '06'], [7.852941176470588, '07'], [11.051724137931034, '11']]\n"
     ]
    }
   ],
   "source": [
    "swap_avg_by_hour = []\n",
    "\n",
    "for row in avg_by_hour:\n",
    "    swap_avg_by_hour.append([row[1], row[0]]) # I swapped the columns such that the avg no of comments comes first. It is easier to rearrange that way\n",
    "\n",
    "print(swap_avg_by_hour)"
   ]
  },
  {
   "cell_type": "code",
   "execution_count": 55,
   "id": "14769258-0ac7-420c-8029-5e2992842718",
   "metadata": {},
   "outputs": [
    {
     "name": "stdout",
     "output_type": "stream",
     "text": [
      "[[38.5948275862069, '15'], [23.810344827586206, '02'], [21.525, '20'], [16.796296296296298, '16'], [16.009174311926607, '21'], [14.741176470588234, '13'], [13.440677966101696, '10'], [13.233644859813085, '14'], [13.20183486238532, '18'], [11.46, '17'], [11.383333333333333, '01'], [11.051724137931034, '11'], [10.8, '19'], [10.25, '08'], [10.08695652173913, '05'], [9.41095890410959, '12'], [9.022727272727273, '06'], [8.127272727272727, '00'], [7.985294117647059, '23'], [7.852941176470588, '07'], [7.796296296296297, '03'], [7.170212765957447, '04'], [6.746478873239437, '22'], [5.5777777777777775, '09']]\n"
     ]
    }
   ],
   "source": [
    "sorted_avg = sorted(swap_avg_by_hour, reverse = True)\n",
    "print(sorted_avg)"
   ]
  },
  {
   "cell_type": "code",
   "execution_count": 56,
   "id": "17516d22-c24a-4378-8ea8-1c5d775cb551",
   "metadata": {},
   "outputs": [
    {
     "name": "stdout",
     "output_type": "stream",
     "text": [
      "Top 5 Hours for 'Ask HN' Comments\n",
      "At 15:00: 38.59 average comments per post\n",
      "At 02:00: 23.81 average comments per post\n",
      "At 20:00: 21.52 average comments per post\n",
      "At 16:00: 16.80 average comments per post\n",
      "At 21:00: 16.01 average comments per post\n"
     ]
    }
   ],
   "source": [
    "print(\"Top 5 Hours for 'Ask HN' Comments\")\n",
    "for avg, hr in sorted_avg[:5]:\n",
    "    hr = dt.datetime.strptime(hr, \"%H\").strftime(\"%H:%M\")\n",
    "    print(f\"At {hr}: {avg :.2F} average comments per post\")"
   ]
  },
  {
   "cell_type": "markdown",
   "id": "edce714d-8d6d-4ad4-a712-73c4af9791d0",
   "metadata": {},
   "source": [
    "The hour that receives the highest average number of comments per post is 15:00, with an average of 38.59 comments per post, followed by 02:00 with an average of 23.81 comments per post. There's approximately a 60% increase in the number of comments between the hour with the highest average and the second highest average."
   ]
  },
  {
   "cell_type": "markdown",
   "id": "c7a5c281-5c35-4efa-b7b5-f80c45755bb7",
   "metadata": {},
   "source": [
    "## Conclusion\n",
    "\n",
    "In this project, I analyzed `Ask HN` and `Show HN` posts to identify which type of post and what time of day receives the most comments on average. Based on the findings, to maximize the number of comments, posting an `Ask HN` post between 15:00 and 16:00 would generate the most comments per post."
   ]
  }
 ],
 "metadata": {
  "kernelspec": {
   "display_name": "Python 3 (ipykernel)",
   "language": "python",
   "name": "python3"
  },
  "language_info": {
   "codemirror_mode": {
    "name": "ipython",
    "version": 3
   },
   "file_extension": ".py",
   "mimetype": "text/x-python",
   "name": "python",
   "nbconvert_exporter": "python",
   "pygments_lexer": "ipython3",
   "version": "3.12.4"
  }
 },
 "nbformat": 4,
 "nbformat_minor": 5
}
